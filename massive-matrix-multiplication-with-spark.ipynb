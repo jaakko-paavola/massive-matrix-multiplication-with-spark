{
 "cells": [
  {
   "cell_type": "markdown",
   "metadata": {},
   "source": [
    "# Massive matrix multiplication with spark"
   ]
  },
  {
   "cell_type": "code",
   "execution_count": 1,
   "metadata": {},
   "outputs": [],
   "source": [
    "# Copyright © 2021 Jaakko Paavola"
   ]
  },
  {
   "cell_type": "markdown",
   "metadata": {},
   "source": [
    "Task: Calculate A x A^T x A and provide the first row of the resulting matrix as the answer in the\n",
    "same format as the input matrix. The input file (data.txt) contains a matrix A, which may have dimensions\n",
    "up to 1000000 x 1000. The file is stored in the text format, and each line represents a row vector.\n",
    "Each row contains 1000 float numbers which are separated by white spaces."
   ]
  },
  {
   "cell_type": "markdown",
   "metadata": {},
   "source": [
    "Solution: As matrix multiplication is associative by nature, the problem can be approached either as (1) (A * A^T) * A, i.e., starting by calculating the left-hand side multiplication first, or (2) as A * (A^T * A), i.e., starting by calculating the right-hand side multiplication first.\n",
    "\n",
    "Let's say we are talking about a 1,000,000 x 1,000 matrix.\n",
    "\n",
    "In approach (1), computing the product A x A^T requires calculating the dot product of two 1,000-element vectors, i.e., doing 1,000 multiplications for each element in the resulting (intermediate) matrix. The resulting matrix is a 1,000,000 x 1,000,000 matrix, so the number of multiplications needed is 1,000 x 10^12 = 10^15. Then, the second step is (A x A^T) x A, which requires calculating the dot product of two 1,000,000-element vectors, i.e., doing 1,000,000 multiplications for each element in the resulting matrix. The resulting matrix is a 1,000,000 x 1,000 matrix, so the number of multiplications needed is 1,000,000 x 10^9 = 10^15.\n",
    "\n",
    "In approach (2), computing the product A^T x A requires calculating the dot product of two 1,000,000-element vectors, i.e., doing 1,000,000 multiplications for each element in the resulting (intermediate) matrix. The resulting matrix is a 1,000 x 1,000 matrix, so the number of multiplications needed is 1,000,000 x 1,000,000 = 10^12. Then, the second step is A x (A^T x A), which requires calculating the dot product of two 1,000-element vectors, i.e., doing 1,000 multiplications for each element in the resulting matrix. The resulting matrix is a 1,000,000 x 1,000 matrix, so the number of multiplications needed is 1,000 x 10^9 = 10^12.\n",
    "\n",
    "In other words, in approach (2) both of the steps require a factor of 1,000 less multiplications than in approach (1)."
   ]
  },
  {
   "cell_type": "markdown",
   "metadata": {},
   "source": [
    "## Program code with comments"
   ]
  },
  {
   "cell_type": "markdown",
   "metadata": {},
   "source": [
    "### Code block 1:\n",
    "In this block I set two configuration variables, rows_to_calculate and partitions. The first one sets the number of rows needed as the output from final matrix product. As the assignment is to provide only the first row as the output, this is set to 1. The second one determines the number of partitions that the dataframes are occasionally repartitioned into. The value of this one should be decided based on whether the code is ran against the small sample dataset or the large dataset.\n",
    "\n",
    "In this block we also initialize the SparkSession object needed for creating dataframes, suppress the level of logging to warnings and errors, read the data from the file and cast it to float type (or to double type for getting more precision out of the multiplication operations) and drop the 1,001st column, which is all nulls."
   ]
  },
  {
   "cell_type": "code",
   "execution_count": 8,
   "metadata": {},
   "outputs": [],
   "source": [
    "# !pip install pyspark\n",
    "from pyspark.sql import SparkSession\n",
    "from pyspark.sql import functions as f\n",
    "from pyspark.sql.types import *\n",
    "from datetime import datetime\n",
    "from pyspark.sql.window import Window\n",
    "\n",
    "##\n",
    "## SETTINGS and INITIALIZATION:\n",
    "##\n",
    "rows_to_calculate = 1 # This is the number of rows to be calculated at the very end, \n",
    "# although only the first one is printed on the screen. # Setting this to only the value 1 is \n",
    "# already sufficient to get the first row of the result matrix printed out correctly at the end.\n",
    "partitions = 10 # This variable determines the number of partitions we use in repartitioning in a few spots in the code\n",
    "spark = SparkSession\\\n",
    "    .builder\\\n",
    "    .appName(\"massive-matrix-multiplication\") \\\n",
    "    .config(\"spark.rdd.compress\", \"true\") \\\n",
    "    .config(\"spark.broadcast.compress\", \"true\") \\\n",
    "    .config(\"spark.cores.max\", \"10\") \\\n",
    "    .config(\"spark.driver.maxResultSize\", \"8g\") \\\n",
    "    .config(\"spark.pyspark.python\", \"python3\") \\\n",
    "    .config(\"spark.driver.memoryOverhead\", \"2g\") \\\n",
    "    .config(\"spark.executor.memoryOverhead\", \"2g\") \\\n",
    "    .config(\"spark.executor.memory\", \"2g\") \\\n",
    "    .config(\"spark.driver.memory\", \"10g\") \\\n",
    "    .config(\"spark.numExecutors\", \"true\") \\\n",
    "    .config(\"spark.dynamicAllocation.enable\", \"true\") \\\n",
    "    .master(\"local[*]\") \\\n",
    "    .getOrCreate()\n",
    "    # .master(\"spark:HOST:PORT\") \\\n",
    "spark.sparkContext.setLogLevel(\"WARN\")\n",
    "\n",
    "df = spark.read.option(\"delimiter\",\" \").option(\"header\",\"false\").option(\"multiline\", \"true\") \\\n",
    "    .csv(\"./data-small-sample.txt\")\n",
    "\n",
    "df1 = df.select([f.col(coln).cast(\"float\") for coln in df.columns[:-1]]) # Drop the last, 1001st column that only gets null values\n",
    "df_A = df1 # Use .limit(x) here for testing with less rows if needed"
   ]
  },
  {
   "cell_type": "code",
   "execution_count": 9,
   "metadata": {},
   "outputs": [
    {
     "data": {
      "text/plain": [
       "'2g'"
      ]
     },
     "execution_count": 9,
     "metadata": {},
     "output_type": "execute_result"
    }
   ],
   "source": [
    "spark.conf.get(\"spark.executor.memory\")"
   ]
  },
  {
   "cell_type": "code",
   "execution_count": 10,
   "metadata": {},
   "outputs": [
    {
     "data": {
      "text/plain": [
       "'10g'"
      ]
     },
     "execution_count": 10,
     "metadata": {},
     "output_type": "execute_result"
    }
   ],
   "source": [
    "spark.conf.get(\"spark.driver.memory\")"
   ]
  },
  {
   "cell_type": "markdown",
   "metadata": {},
   "source": [
    "### Code block 2:"
   ]
  },
  {
   "cell_type": "markdown",
   "metadata": {},
   "source": [
    "Here we define a function that transposes any dataframe that contains {rows} number of rows, and pass the matrix to it for transposition. The transposition logic makes use of a few different Spark SQL API functions."
   ]
  },
  {
   "cell_type": "code",
   "execution_count": 11,
   "metadata": {},
   "outputs": [
    {
     "name": "stdout",
     "output_type": "stream",
     "text": [
      "2024-03-10 12:38:35.871015: Transposing matrix A\n"
     ]
    },
    {
     "name": "stderr",
     "output_type": "stream",
     "text": [
      "24/03/10 12:38:43 WARN CacheManager: Asked to cache already cached data.\n"
     ]
    },
    {
     "data": {
      "text/plain": [
       "DataFrame[0_row: float, 1_row: float, 2_row: float, 3_row: float, 4_row: float, 5_row: float, 6_row: float, 7_row: float, 8_row: float, 9_row: float, 10_row: float, 11_row: float, 12_row: float, 13_row: float, 14_row: float, 15_row: float, 16_row: float, 17_row: float, 18_row: float, 19_row: float, 20_row: float, 21_row: float, 22_row: float, 23_row: float, 24_row: float, 25_row: float, 26_row: float, 27_row: float, 28_row: float, 29_row: float, 30_row: float, 31_row: float, 32_row: float, 33_row: float, 34_row: float, 35_row: float, 36_row: float, 37_row: float, 38_row: float, 39_row: float, 40_row: float, 41_row: float, 42_row: float, 43_row: float, 44_row: float, 45_row: float, 46_row: float, 47_row: float, 48_row: float, 49_row: float, 50_row: float, 51_row: float, 52_row: float, 53_row: float, 54_row: float, 55_row: float, 56_row: float, 57_row: float, 58_row: float, 59_row: float, 60_row: float, 61_row: float, 62_row: float, 63_row: float, 64_row: float, 65_row: float, 66_row: float, 67_row: float, 68_row: float, 69_row: float, 70_row: float, 71_row: float, 72_row: float, 73_row: float, 74_row: float, 75_row: float, 76_row: float, 77_row: float, 78_row: float, 79_row: float, 80_row: float, 81_row: float, 82_row: float, 83_row: float, 84_row: float, 85_row: float, 86_row: float, 87_row: float, 88_row: float, 89_row: float, 90_row: float, 91_row: float, 92_row: float, 93_row: float, 94_row: float, 95_row: float, 96_row: float, 97_row: float, 98_row: float, 99_row: float, 100_row: float, 101_row: float, 102_row: float, 103_row: float, 104_row: float, 105_row: float, 106_row: float, 107_row: float, 108_row: float, 109_row: float, 110_row: float, 111_row: float, 112_row: float, 113_row: float, 114_row: float, 115_row: float, 116_row: float, 117_row: float, 118_row: float, 119_row: float, 120_row: float, 121_row: float, 122_row: float, 123_row: float, 124_row: float, 125_row: float, 126_row: float, 127_row: float, 128_row: float, 129_row: float, 130_row: float, 131_row: float, 132_row: float, 133_row: float, 134_row: float, 135_row: float, 136_row: float, 137_row: float, 138_row: float, 139_row: float, 140_row: float, 141_row: float, 142_row: float, 143_row: float, 144_row: float, 145_row: float, 146_row: float, 147_row: float, 148_row: float, 149_row: float, 150_row: float, 151_row: float, 152_row: float, 153_row: float, 154_row: float, 155_row: float, 156_row: float, 157_row: float, 158_row: float, 159_row: float, 160_row: float, 161_row: float, 162_row: float, 163_row: float, 164_row: float, 165_row: float, 166_row: float, 167_row: float, 168_row: float, 169_row: float, 170_row: float, 171_row: float, 172_row: float, 173_row: float, 174_row: float, 175_row: float, 176_row: float, 177_row: float, 178_row: float, 179_row: float, 180_row: float, 181_row: float, 182_row: float, 183_row: float, 184_row: float, 185_row: float, 186_row: float, 187_row: float, 188_row: float, 189_row: float, 190_row: float, 191_row: float, 192_row: float, 193_row: float, 194_row: float, 195_row: float, 196_row: float, 197_row: float, 198_row: float, 199_row: float, 200_row: float, 201_row: float, 202_row: float, 203_row: float, 204_row: float, 205_row: float, 206_row: float, 207_row: float, 208_row: float, 209_row: float, 210_row: float, 211_row: float, 212_row: float, 213_row: float, 214_row: float, 215_row: float, 216_row: float, 217_row: float, 218_row: float, 219_row: float, 220_row: float, 221_row: float, 222_row: float, 223_row: float, 224_row: float, 225_row: float, 226_row: float, 227_row: float, 228_row: float, 229_row: float, 230_row: float, 231_row: float, 232_row: float, 233_row: float, 234_row: float, 235_row: float, 236_row: float, 237_row: float, 238_row: float, 239_row: float, 240_row: float, 241_row: float, 242_row: float, 243_row: float, 244_row: float, 245_row: float, 246_row: float, 247_row: float, 248_row: float, 249_row: float, 250_row: float, 251_row: float, 252_row: float, 253_row: float, 254_row: float, 255_row: float, 256_row: float, 257_row: float, 258_row: float, 259_row: float, 260_row: float, 261_row: float, 262_row: float, 263_row: float, 264_row: float, 265_row: float, 266_row: float, 267_row: float, 268_row: float, 269_row: float, 270_row: float, 271_row: float, 272_row: float, 273_row: float, 274_row: float, 275_row: float, 276_row: float, 277_row: float, 278_row: float, 279_row: float, 280_row: float, 281_row: float, 282_row: float, 283_row: float, 284_row: float, 285_row: float, 286_row: float, 287_row: float, 288_row: float, 289_row: float, 290_row: float, 291_row: float, 292_row: float, 293_row: float, 294_row: float, 295_row: float, 296_row: float, 297_row: float, 298_row: float, 299_row: float, 300_row: float, 301_row: float, 302_row: float, 303_row: float, 304_row: float, 305_row: float, 306_row: float, 307_row: float, 308_row: float, 309_row: float, 310_row: float, 311_row: float, 312_row: float, 313_row: float, 314_row: float, 315_row: float, 316_row: float, 317_row: float, 318_row: float, 319_row: float, 320_row: float, 321_row: float, 322_row: float, 323_row: float, 324_row: float, 325_row: float, 326_row: float, 327_row: float, 328_row: float, 329_row: float, 330_row: float, 331_row: float, 332_row: float, 333_row: float, 334_row: float, 335_row: float, 336_row: float, 337_row: float, 338_row: float, 339_row: float, 340_row: float, 341_row: float, 342_row: float, 343_row: float, 344_row: float, 345_row: float, 346_row: float, 347_row: float, 348_row: float, 349_row: float, 350_row: float, 351_row: float, 352_row: float, 353_row: float, 354_row: float, 355_row: float, 356_row: float, 357_row: float, 358_row: float, 359_row: float, 360_row: float, 361_row: float, 362_row: float, 363_row: float, 364_row: float, 365_row: float, 366_row: float, 367_row: float, 368_row: float, 369_row: float, 370_row: float, 371_row: float, 372_row: float, 373_row: float, 374_row: float, 375_row: float, 376_row: float, 377_row: float, 378_row: float, 379_row: float, 380_row: float, 381_row: float, 382_row: float, 383_row: float, 384_row: float, 385_row: float, 386_row: float, 387_row: float, 388_row: float, 389_row: float, 390_row: float, 391_row: float, 392_row: float, 393_row: float, 394_row: float, 395_row: float, 396_row: float, 397_row: float, 398_row: float, 399_row: float, 400_row: float, 401_row: float, 402_row: float, 403_row: float, 404_row: float, 405_row: float, 406_row: float, 407_row: float, 408_row: float, 409_row: float, 410_row: float, 411_row: float, 412_row: float, 413_row: float, 414_row: float, 415_row: float, 416_row: float, 417_row: float, 418_row: float, 419_row: float, 420_row: float, 421_row: float, 422_row: float, 423_row: float, 424_row: float, 425_row: float, 426_row: float, 427_row: float, 428_row: float, 429_row: float, 430_row: float, 431_row: float, 432_row: float, 433_row: float, 434_row: float, 435_row: float, 436_row: float, 437_row: float, 438_row: float, 439_row: float, 440_row: float, 441_row: float, 442_row: float, 443_row: float, 444_row: float, 445_row: float, 446_row: float, 447_row: float, 448_row: float, 449_row: float, 450_row: float, 451_row: float, 452_row: float, 453_row: float, 454_row: float, 455_row: float, 456_row: float, 457_row: float, 458_row: float, 459_row: float, 460_row: float, 461_row: float, 462_row: float, 463_row: float, 464_row: float, 465_row: float, 466_row: float, 467_row: float, 468_row: float, 469_row: float, 470_row: float, 471_row: float, 472_row: float, 473_row: float, 474_row: float, 475_row: float, 476_row: float, 477_row: float, 478_row: float, 479_row: float, 480_row: float, 481_row: float, 482_row: float, 483_row: float, 484_row: float, 485_row: float, 486_row: float, 487_row: float, 488_row: float, 489_row: float, 490_row: float, 491_row: float, 492_row: float, 493_row: float, 494_row: float, 495_row: float, 496_row: float, 497_row: float, 498_row: float, 499_row: float, 500_row: float, 501_row: float, 502_row: float, 503_row: float, 504_row: float, 505_row: float, 506_row: float, 507_row: float, 508_row: float, 509_row: float, 510_row: float, 511_row: float, 512_row: float, 513_row: float, 514_row: float, 515_row: float, 516_row: float, 517_row: float, 518_row: float, 519_row: float, 520_row: float, 521_row: float, 522_row: float, 523_row: float, 524_row: float, 525_row: float, 526_row: float, 527_row: float, 528_row: float, 529_row: float, 530_row: float, 531_row: float, 532_row: float, 533_row: float, 534_row: float, 535_row: float, 536_row: float, 537_row: float, 538_row: float, 539_row: float, 540_row: float, 541_row: float, 542_row: float, 543_row: float, 544_row: float, 545_row: float, 546_row: float, 547_row: float, 548_row: float, 549_row: float, 550_row: float, 551_row: float, 552_row: float, 553_row: float, 554_row: float, 555_row: float, 556_row: float, 557_row: float, 558_row: float, 559_row: float, 560_row: float, 561_row: float, 562_row: float, 563_row: float, 564_row: float, 565_row: float, 566_row: float, 567_row: float, 568_row: float, 569_row: float, 570_row: float, 571_row: float, 572_row: float, 573_row: float, 574_row: float, 575_row: float, 576_row: float, 577_row: float, 578_row: float, 579_row: float, 580_row: float, 581_row: float, 582_row: float, 583_row: float, 584_row: float, 585_row: float, 586_row: float, 587_row: float, 588_row: float, 589_row: float, 590_row: float, 591_row: float, 592_row: float, 593_row: float, 594_row: float, 595_row: float, 596_row: float, 597_row: float, 598_row: float, 599_row: float, 600_row: float, 601_row: float, 602_row: float, 603_row: float, 604_row: float, 605_row: float, 606_row: float, 607_row: float, 608_row: float, 609_row: float, 610_row: float, 611_row: float, 612_row: float, 613_row: float, 614_row: float, 615_row: float, 616_row: float, 617_row: float, 618_row: float, 619_row: float, 620_row: float, 621_row: float, 622_row: float, 623_row: float, 624_row: float, 625_row: float, 626_row: float, 627_row: float, 628_row: float, 629_row: float, 630_row: float, 631_row: float, 632_row: float, 633_row: float, 634_row: float, 635_row: float, 636_row: float, 637_row: float, 638_row: float, 639_row: float, 640_row: float, 641_row: float, 642_row: float, 643_row: float, 644_row: float, 645_row: float, 646_row: float, 647_row: float, 648_row: float, 649_row: float, 650_row: float, 651_row: float, 652_row: float, 653_row: float, 654_row: float, 655_row: float, 656_row: float, 657_row: float, 658_row: float, 659_row: float, 660_row: float, 661_row: float, 662_row: float, 663_row: float, 664_row: float, 665_row: float, 666_row: float, 667_row: float, 668_row: float, 669_row: float, 670_row: float, 671_row: float, 672_row: float, 673_row: float, 674_row: float, 675_row: float, 676_row: float, 677_row: float, 678_row: float, 679_row: float, 680_row: float, 681_row: float, 682_row: float, 683_row: float, 684_row: float, 685_row: float, 686_row: float, 687_row: float, 688_row: float, 689_row: float, 690_row: float, 691_row: float, 692_row: float, 693_row: float, 694_row: float, 695_row: float, 696_row: float, 697_row: float, 698_row: float, 699_row: float, 700_row: float, 701_row: float, 702_row: float, 703_row: float, 704_row: float, 705_row: float, 706_row: float, 707_row: float, 708_row: float, 709_row: float, 710_row: float, 711_row: float, 712_row: float, 713_row: float, 714_row: float, 715_row: float, 716_row: float, 717_row: float, 718_row: float, 719_row: float, 720_row: float, 721_row: float, 722_row: float, 723_row: float, 724_row: float, 725_row: float, 726_row: float, 727_row: float, 728_row: float, 729_row: float, 730_row: float, 731_row: float, 732_row: float, 733_row: float, 734_row: float, 735_row: float, 736_row: float, 737_row: float, 738_row: float, 739_row: float, 740_row: float, 741_row: float, 742_row: float, 743_row: float, 744_row: float, 745_row: float, 746_row: float, 747_row: float, 748_row: float, 749_row: float, 750_row: float, 751_row: float, 752_row: float, 753_row: float, 754_row: float, 755_row: float, 756_row: float, 757_row: float, 758_row: float, 759_row: float, 760_row: float, 761_row: float, 762_row: float, 763_row: float, 764_row: float, 765_row: float, 766_row: float, 767_row: float, 768_row: float, 769_row: float, 770_row: float, 771_row: float, 772_row: float, 773_row: float, 774_row: float, 775_row: float, 776_row: float, 777_row: float, 778_row: float, 779_row: float, 780_row: float, 781_row: float, 782_row: float, 783_row: float, 784_row: float, 785_row: float, 786_row: float, 787_row: float, 788_row: float, 789_row: float, 790_row: float, 791_row: float, 792_row: float, 793_row: float, 794_row: float, 795_row: float, 796_row: float, 797_row: float, 798_row: float, 799_row: float, 800_row: float, 801_row: float, 802_row: float, 803_row: float, 804_row: float, 805_row: float, 806_row: float, 807_row: float, 808_row: float, 809_row: float, 810_row: float, 811_row: float, 812_row: float, 813_row: float, 814_row: float, 815_row: float, 816_row: float, 817_row: float, 818_row: float, 819_row: float, 820_row: float, 821_row: float, 822_row: float, 823_row: float, 824_row: float, 825_row: float, 826_row: float, 827_row: float, 828_row: float, 829_row: float, 830_row: float, 831_row: float, 832_row: float, 833_row: float, 834_row: float, 835_row: float, 836_row: float, 837_row: float, 838_row: float, 839_row: float, 840_row: float, 841_row: float, 842_row: float, 843_row: float, 844_row: float, 845_row: float, 846_row: float, 847_row: float, 848_row: float, 849_row: float, 850_row: float, 851_row: float, 852_row: float, 853_row: float, 854_row: float, 855_row: float, 856_row: float, 857_row: float, 858_row: float, 859_row: float, 860_row: float, 861_row: float, 862_row: float, 863_row: float, 864_row: float, 865_row: float, 866_row: float, 867_row: float, 868_row: float, 869_row: float, 870_row: float, 871_row: float, 872_row: float, 873_row: float, 874_row: float, 875_row: float, 876_row: float, 877_row: float, 878_row: float, 879_row: float, 880_row: float, 881_row: float, 882_row: float, 883_row: float, 884_row: float, 885_row: float, 886_row: float, 887_row: float, 888_row: float, 889_row: float, 890_row: float, 891_row: float, 892_row: float, 893_row: float, 894_row: float, 895_row: float, 896_row: float, 897_row: float, 898_row: float, 899_row: float, 900_row: float, 901_row: float, 902_row: float, 903_row: float, 904_row: float, 905_row: float, 906_row: float, 907_row: float, 908_row: float, 909_row: float, 910_row: float, 911_row: float, 912_row: float, 913_row: float, 914_row: float, 915_row: float, 916_row: float, 917_row: float, 918_row: float, 919_row: float, 920_row: float, 921_row: float, 922_row: float, 923_row: float, 924_row: float, 925_row: float, 926_row: float, 927_row: float, 928_row: float, 929_row: float, 930_row: float, 931_row: float, 932_row: float, 933_row: float, 934_row: float, 935_row: float, 936_row: float, 937_row: float, 938_row: float, 939_row: float, 940_row: float, 941_row: float, 942_row: float, 943_row: float, 944_row: float, 945_row: float, 946_row: float, 947_row: float, 948_row: float, 949_row: float, 950_row: float, 951_row: float, 952_row: float, 953_row: float, 954_row: float, 955_row: float, 956_row: float, 957_row: float, 958_row: float, 959_row: float, 960_row: float, 961_row: float, 962_row: float, 963_row: float, 964_row: float, 965_row: float, 966_row: float, 967_row: float, 968_row: float, 969_row: float, 970_row: float, 971_row: float, 972_row: float, 973_row: float, 974_row: float, 975_row: float, 976_row: float, 977_row: float, 978_row: float, 979_row: float, 980_row: float, 981_row: float, 982_row: float, 983_row: float, 984_row: float, 985_row: float, 986_row: float, 987_row: float, 988_row: float, 989_row: float, 990_row: float, 991_row: float, 992_row: float, 993_row: float, 994_row: float, 995_row: float, 996_row: float, 997_row: float, 998_row: float, 999_row: float]"
      ]
     },
     "execution_count": 11,
     "metadata": {},
     "output_type": "execute_result"
    }
   ],
   "source": [
    "def transpose(df_to_be_transposed, rows):\n",
    "    df_to_be_transposed_with_row = df_to_be_transposed \\\n",
    "        .withColumn('row', f.row_number().over(Window.partitionBy(f.lit(0)).orderBy(f.monotonically_increasing_id())) - 1)\n",
    "    df_to_be_transposed = df_to_be_transposed_with_row \\\n",
    "        .withColumn(\"Rows_of_A_as_arrays\", f.array(*df_to_be_transposed.columns)) \\\n",
    "        .select(\"Rows_of_A_as_arrays\", \"row\") \\\n",
    "        .withColumn(\"Rows_of_A_columnized\", f.explode(f.col(\"Rows_of_A_as_arrays\"))).drop(\"Rows_of_A_as_arrays\")\n",
    "    if rows == 1:\n",
    "        return df_to_be_transposed.drop(\"row\")\n",
    "    else:\n",
    "        df_to_be_transposed_pivoted = df_to_be_transposed.groupBy().pivot(\"row\").agg(*[f.collect_list(f.col(\"Rows_of_A_columnized\")) \\\n",
    "            .alias(f\"{c.strip('_')}\") for c in df_to_be_transposed.columns]) \\\n",
    "            .drop(*[f\"{i}_Rows_of_A_columnized\" for i in range(0, rows)])\n",
    "        df_transposed = df_to_be_transposed_pivoted \\\n",
    "            .withColumn(\"Rows_of_A_columnized\", f.arrays_zip(*[f\"{c}\" for c in df_to_be_transposed_pivoted.columns])) \\\n",
    "            .select(\"Rows_of_A_columnized\") \\\n",
    "            .withColumn(\"Rows_of_A_columnized\", f.explode(f.col(\"Rows_of_A_columnized\"))) \\\n",
    "            .select(*[\"Rows_of_A_columnized.\" + i for i in [f\"{c}\" for c in df_to_be_transposed_pivoted.columns]])\n",
    "        return df_transposed\n",
    "\n",
    "# %%\n",
    "print(f\"{datetime.now()}: Transposing matrix A\")\n",
    "rows = df_A.count()\n",
    "df_A_transposed = transpose(df_A, rows)\n",
    "df_A_transposed.cache()"
   ]
  },
  {
   "cell_type": "markdown",
   "metadata": {},
   "source": [
    "### Code block 3:"
   ]
  },
  {
   "cell_type": "markdown",
   "metadata": {},
   "source": [
    "Here we calculate the first step of the calculation, arriving at an intermediate matrix product. The calculation of the cross-product sums makes use of aggregation functionalities of Spark SQL API. After the aggregation, the resulting one-row dataframe must be reshaped to the correct shape by \"melting\"/\"unpivoting\"/\"stacking\"."
   ]
  },
  {
   "cell_type": "code",
   "execution_count": 12,
   "metadata": {},
   "outputs": [
    {
     "name": "stdout",
     "output_type": "stream",
     "text": [
      "2024-03-10 12:38:49.716912: Calculating the cross-product sums of A^T * A\n",
      "2024-03-10 12:38:49.717438: Num of partitions before calculating the cross-product sums: 1\n"
     ]
    },
    {
     "name": "stderr",
     "output_type": "stream",
     "text": [
      "24/03/10 12:41:37 WARN DAGScheduler: Broadcasting large task binary with size 8.5 MiB\n",
      "24/03/10 12:42:45 WARN DAGScheduler: Broadcasting large task binary with size 34.5 MiB\n",
      "[Stage 37:>                                                         (0 + 1) / 1]\r"
     ]
    },
    {
     "name": "stdout",
     "output_type": "stream",
     "text": [
      "2024-03-10 12:41:30.306117: Num of partitions before reshaping:  10\n",
      "2024-03-10 12:43:27.616453: Reshaping into a A * A^T matrix\n"
     ]
    },
    {
     "name": "stderr",
     "output_type": "stream",
     "text": [
      "24/03/10 12:47:51 WARN DAGScheduler: Broadcasting large task binary with size 8.5 MiB\n",
      "24/03/10 12:48:27 WARN DAGScheduler: Broadcasting large task binary with size 34.6 MiB\n",
      "24/03/10 12:48:50 WARN DAGScheduler: Broadcasting large task binary with size 54.0 MiB\n",
      "24/03/10 12:49:16 WARN DAGScheduler: Broadcasting large task binary with size 60.3 MiB\n",
      "[Stage 66:>                                                         (0 + 1) / 1]\r"
     ]
    },
    {
     "name": "stdout",
     "output_type": "stream",
     "text": [
      "2024-03-10 12:47:49.192937: Num of partitions after reshaping:  1\n"
     ]
    }
   ],
   "source": [
    "# %%\n",
    "# Calculate A^T * A with cross-product in a one-liner + reshaping of the result into the intermediate matrix \n",
    "# product\n",
    "print(f\"{datetime.now()}: Calculating the cross-product sums of A^T * A\")\n",
    "# Vectorized multiplication happens here, resulting in a one-row dataframe containing the sums that can be \n",
    "# reshaped into the actual intermediate matrix product\n",
    "print(f\"{datetime.now()}: Num of partitions before calculating the cross-product sums:\", df_A.rdd.getNumPartitions())\n",
    "df_intermediate_matrix_product = df_A.agg(*[f.sum((f.col(left_column)*f.col(right_column))).alias(f\"{left_column}-{right_column}\") \\\n",
    "    for left_column in df_A.columns for right_column in df_A.columns])\n",
    "\n",
    "# %%\n",
    "df_intermediate_matrix_product = df_intermediate_matrix_product.repartition(partitions)\n",
    "print(f\"{datetime.now()}: Num of partitions before reshaping: \", df_intermediate_matrix_product.rdd.getNumPartitions())\n",
    "print(f\"{datetime.now()}: Reshaping into a A * A^T matrix\")\n",
    "vars_and_vals = f.array(*(f.struct(f.lit(c[:c.find(\"-\")]).alias(\"variable\"), f.col(c).alias(\"value\")) \n",
    "    for c in df_intermediate_matrix_product.columns))\n",
    "cols = [f.col(\"vars_and_vals\")[x].alias(x) for x in [\"variable\", \"value\"]]\n",
    "column_list = df_A.columns\n",
    "\n",
    "# Melt/unpivot/stack the sums from the columns to the final shape of the matrix product:\n",
    "df_intermediate_matrix_product = df_intermediate_matrix_product.withColumn(\"vars_and_vals\", f.explode(vars_and_vals)).select(*cols) \\\n",
    "        .groupBy().pivot(\"variable\").agg(f.collect_list(\"value\")) \\\n",
    "        .withColumn(\"Columns_of_matrix\", f.arrays_zip(*column_list)) \\\n",
    "        .withColumn(\"Columns_of_matrix\", f.explode(f.col(\"Columns_of_matrix\"))) \\\n",
    "        .select(*[\"Columns_of_matrix.\" + c for c in column_list])\n",
    "df_intermediate_matrix_product.cache()\n",
    "print(f\"{datetime.now()}: Num of partitions after reshaping: \", df_intermediate_matrix_product.rdd.getNumPartitions())\n"
   ]
  },
  {
   "cell_type": "markdown",
   "metadata": {},
   "source": [
    "### Clode block 4:"
   ]
  },
  {
   "cell_type": "markdown",
   "metadata": {},
   "source": [
    "In this step we prepare for the final calculation step by taking the first row of matrix A and the intermediate matrix product and joining them into a single dataframe."
   ]
  },
  {
   "cell_type": "code",
   "execution_count": 13,
   "metadata": {},
   "outputs": [
    {
     "name": "stdout",
     "output_type": "stream",
     "text": [
      "2024-03-10 12:51:11.875534: Joining the dataframes for the latter calculation step\n"
     ]
    },
    {
     "data": {
      "text/plain": [
       "DataFrame[_c0: double, _c1: double, _c2: double, _c3: double, _c4: double, _c5: double, _c6: double, _c7: double, _c8: double, _c9: double, _c10: double, _c11: double, _c12: double, _c13: double, _c14: double, _c15: double, _c16: double, _c17: double, _c18: double, _c19: double, _c20: double, _c21: double, _c22: double, _c23: double, _c24: double, _c25: double, _c26: double, _c27: double, _c28: double, _c29: double, _c30: double, _c31: double, _c32: double, _c33: double, _c34: double, _c35: double, _c36: double, _c37: double, _c38: double, _c39: double, _c40: double, _c41: double, _c42: double, _c43: double, _c44: double, _c45: double, _c46: double, _c47: double, _c48: double, _c49: double, _c50: double, _c51: double, _c52: double, _c53: double, _c54: double, _c55: double, _c56: double, _c57: double, _c58: double, _c59: double, _c60: double, _c61: double, _c62: double, _c63: double, _c64: double, _c65: double, _c66: double, _c67: double, _c68: double, _c69: double, _c70: double, _c71: double, _c72: double, _c73: double, _c74: double, _c75: double, _c76: double, _c77: double, _c78: double, _c79: double, _c80: double, _c81: double, _c82: double, _c83: double, _c84: double, _c85: double, _c86: double, _c87: double, _c88: double, _c89: double, _c90: double, _c91: double, _c92: double, _c93: double, _c94: double, _c95: double, _c96: double, _c97: double, _c98: double, _c99: double, _c100: double, _c101: double, _c102: double, _c103: double, _c104: double, _c105: double, _c106: double, _c107: double, _c108: double, _c109: double, _c110: double, _c111: double, _c112: double, _c113: double, _c114: double, _c115: double, _c116: double, _c117: double, _c118: double, _c119: double, _c120: double, _c121: double, _c122: double, _c123: double, _c124: double, _c125: double, _c126: double, _c127: double, _c128: double, _c129: double, _c130: double, _c131: double, _c132: double, _c133: double, _c134: double, _c135: double, _c136: double, _c137: double, _c138: double, _c139: double, _c140: double, _c141: double, _c142: double, _c143: double, _c144: double, _c145: double, _c146: double, _c147: double, _c148: double, _c149: double, _c150: double, _c151: double, _c152: double, _c153: double, _c154: double, _c155: double, _c156: double, _c157: double, _c158: double, _c159: double, _c160: double, _c161: double, _c162: double, _c163: double, _c164: double, _c165: double, _c166: double, _c167: double, _c168: double, _c169: double, _c170: double, _c171: double, _c172: double, _c173: double, _c174: double, _c175: double, _c176: double, _c177: double, _c178: double, _c179: double, _c180: double, _c181: double, _c182: double, _c183: double, _c184: double, _c185: double, _c186: double, _c187: double, _c188: double, _c189: double, _c190: double, _c191: double, _c192: double, _c193: double, _c194: double, _c195: double, _c196: double, _c197: double, _c198: double, _c199: double, 0_row: float]"
      ]
     },
     "execution_count": 13,
     "metadata": {},
     "output_type": "execute_result"
    }
   ],
   "source": [
    "# %%\n",
    "print(f\"{datetime.now()}: Joining the dataframes for the latter calculation step\")\n",
    "# Join the first {rows_to_calculate} rows of matrix A with the matrix product A^T * A\n",
    "df_joint = df_intermediate_matrix_product.withColumn('row', f.row_number().over(Window.partitionBy(f.lit(0)).orderBy(f.monotonically_increasing_id())) - 1) \\\n",
    "    .join(df_A_transposed.select(df_A_transposed.columns[:rows_to_calculate]).withColumn('row', f.row_number().over(Window.partitionBy(f.lit(0)).orderBy(f.monotonically_increasing_id())) - 1), on=[\"row\"]).drop(\"row\")\n",
    "\n",
    "df_joint.cache()"
   ]
  },
  {
   "cell_type": "markdown",
   "metadata": {},
   "source": [
    "### Code block 5:"
   ]
  },
  {
   "cell_type": "markdown",
   "metadata": {},
   "source": [
    "In this step we calculate the elements of the final matrix product much like in the previous calculation step by using aggregation functions and then doing reshaping into the actual shape of the final matrix product."
   ]
  },
  {
   "cell_type": "code",
   "execution_count": 14,
   "metadata": {},
   "outputs": [
    {
     "name": "stdout",
     "output_type": "stream",
     "text": [
      "2024-03-10 12:51:23.147632: Calculating the cross-product sums of A * (A^T * A)\n"
     ]
    },
    {
     "name": "stderr",
     "output_type": "stream",
     "text": [
      "24/03/10 12:51:38 WARN DAGScheduler: Broadcasting large task binary with size 1456.7 KiB\n",
      "24/03/10 12:51:51 WARN DAGScheduler: Broadcasting large task binary with size 60.3 MiB\n",
      "24/03/10 12:52:00 WARN DAGScheduler: Broadcasting large task binary with size 61.9 MiB\n",
      "24/03/10 12:52:05 WARN DAGScheduler: Broadcasting large task binary with size 61.9 MiB\n",
      "[Stage 82:>                                                         (0 + 1) / 1]\r"
     ]
    },
    {
     "name": "stdout",
     "output_type": "stream",
     "text": [
      "2024-03-10 12:51:24.135421: Num of partitions before calculating the cross-product sums:  10\n"
     ]
    },
    {
     "name": "stderr",
     "output_type": "stream",
     "text": [
      "24/03/10 12:52:14 WARN DAGScheduler: Broadcasting large task binary with size 61.9 MiB\n",
      "24/03/10 12:52:22 WARN DAGScheduler: Broadcasting large task binary with size 62.0 MiB\n",
      "24/03/10 12:52:45 WARN DAGScheduler: Broadcasting large task binary with size 62.3 MiB\n",
      "[Stage 94:>                                                         (0 + 1) / 1]\r"
     ]
    },
    {
     "name": "stdout",
     "output_type": "stream",
     "text": [
      "2024-03-10 12:52:10.887859: Num of partitions before reshaping:  10\n",
      "2024-03-10 12:52:50.291852: Reshaping into a A * (A^T * A) matrix\n"
     ]
    },
    {
     "name": "stderr",
     "output_type": "stream",
     "text": [
      "24/03/10 12:53:06 WARN DAGScheduler: Broadcasting large task binary with size 61.9 MiB\n",
      "24/03/10 12:53:19 WARN DAGScheduler: Broadcasting large task binary with size 61.9 MiB\n",
      "24/03/10 12:54:07 WARN DAGScheduler: Broadcasting large task binary with size 61.9 MiB\n",
      "24/03/10 12:54:12 WARN DAGScheduler: Broadcasting large task binary with size 61.9 MiB\n",
      "24/03/10 12:54:35 WARN DAGScheduler: Broadcasting large task binary with size 61.9 MiB\n",
      "24/03/10 12:54:50 WARN DAGScheduler: Broadcasting large task binary with size 61.9 MiB\n",
      "24/03/10 12:55:00 WARN DAGScheduler: Broadcasting large task binary with size 62.0 MiB\n",
      "24/03/10 12:55:34 WARN DAGScheduler: Broadcasting large task binary with size 62.3 MiB\n",
      "24/03/10 12:55:40 WARN DAGScheduler: Broadcasting large task binary with size 62.4 MiB\n",
      "24/03/10 12:56:02 WARN DAGScheduler: Broadcasting large task binary with size 62.6 MiB\n",
      "[Stage 159:>                                                        (0 + 1) / 1]\r"
     ]
    },
    {
     "name": "stdout",
     "output_type": "stream",
     "text": [
      "2024-03-10 12:54:45.941880: Num of partitions after reshaping:  1\n"
     ]
    }
   ],
   "source": [
    "# %%\n",
    "print(f\"{datetime.now()}: Calculating the cross-product sums of A * (A^T * A)\")\n",
    "# Calculate A * (A^T * A) with cross-product in a one-liner + reshaping of the result into the final matrix product\n",
    "\n",
    "df_joint = df_joint.repartition(partitions)\n",
    "print(f\"{datetime.now()}: Num of partitions before calculating the cross-product sums: \", df_joint.rdd.getNumPartitions())\n",
    "# Vectorized multiplication happens here, resulting in a one-row dataframe containing the sums that can be reshaped into \n",
    "# the actual intermediate matrix product\n",
    "df_joint_aggregated = df_joint.agg(*[f.sum((f.col(left_column)*f.col(right_column))).alias(f\"{right_column}-{left_column}\") \\\n",
    "    for right_column in df_joint.columns[:-rows_to_calculate] for left_column in df_joint.columns[-rows_to_calculate:]])\n",
    "\n",
    "# %%\n",
    "df_joint_aggregated = df_joint_aggregated.repartition(partitions)\n",
    "print(f\"{datetime.now()}: Num of partitions before reshaping: \", df_joint_aggregated.rdd.getNumPartitions())\n",
    "\n",
    "print(f\"{datetime.now()}: Reshaping into a A * (A^T * A) matrix\")\n",
    "vars_and_vals = f.array(*(f.struct(f.lit(c[:c.find(\"-\")]).alias(\"variable\"), f.col(c).alias(\"value\")) \n",
    "    for c in df_joint_aggregated.columns))\n",
    "cols = [f.col(\"vars_and_vals\")[x].alias(x) for x in [\"variable\", \"value\"]]\n",
    "# Melt/unpivot/stack the sums from the columns to the final shape of the matrix product:\n",
    "# df_joint_aggregated = df_joint_aggregated.repartition(partitions)\n",
    "df_A_x_A_T_x_A_pivoted = df_joint_aggregated.withColumn(\"vars_and_vals\", f.explode(vars_and_vals)).select(*cols) \\\n",
    "        .groupBy().pivot(\"variable\").agg(f.collect_list(\"value\"))\n",
    "df_A_x_A_T_x_A = df_A_x_A_T_x_A_pivoted \\\n",
    "        .withColumn(\"Columns_of_matrix\", f.arrays_zip(*df_A_x_A_T_x_A_pivoted.columns)) \\\n",
    "        .withColumn(\"Columns_of_matrix\", f.explode(f.col(\"Columns_of_matrix\"))) \\\n",
    "        .select(*[\"Columns_of_matrix.\" + c for c in df_A_x_A_T_x_A_pivoted.columns])\n",
    "df_A_x_A_T_x_A.cache()\n",
    "print(f\"{datetime.now()}: Num of partitions after reshaping: \", df_A_x_A_T_x_A.rdd.getNumPartitions())\n"
   ]
  },
  {
   "cell_type": "markdown",
   "metadata": {},
   "source": [
    "### Results:"
   ]
  },
  {
   "cell_type": "code",
   "execution_count": 15,
   "metadata": {},
   "outputs": [
    {
     "name": "stderr",
     "output_type": "stream",
     "text": [
      "24/03/10 12:56:41 WARN DAGScheduler: Broadcasting large task binary with size 62.7 MiB\n",
      "[Stage 166:>                                                        (0 + 1) / 1]\r"
     ]
    },
    {
     "name": "stdout",
     "output_type": "stream",
     "text": [
      "-RECORD 0----------------------\n",
      " _c0   | 2.776537347167101E10  \n",
      " _c1   | 2.7662610012919544E10 \n",
      " _c10  | 2.819077476647991E10  \n",
      " _c100 | 2.8263425572226547E10 \n",
      " _c101 | 2.820833058779611E10  \n",
      " _c102 | 2.7405150162877968E10 \n",
      " _c103 | 2.659017721078386E10  \n",
      " _c104 | 2.779007738135295E10  \n",
      " _c105 | 2.7500772838454655E10 \n",
      " _c106 | 2.7911826974865772E10 \n",
      " _c107 | 2.647262503447497E10  \n",
      " _c108 | 2.7313896194002274E10 \n",
      " _c109 | 2.7599594839650387E10 \n",
      " _c11  | 2.763260252884661E10  \n",
      " _c110 | 2.8117858774354767E10 \n",
      " _c111 | 2.8200326407856846E10 \n",
      " _c112 | 2.7443651439188602E10 \n",
      " _c113 | 2.675779077443574E10  \n",
      " _c114 | 2.741163091779049E10  \n",
      " _c115 | 2.7994711562477608E10 \n",
      " _c116 | 2.78412241953937E10   \n",
      " _c117 | 2.6973861868808025E10 \n",
      " _c118 | 2.700770239611181E10  \n",
      " _c119 | 2.7840728612576603E10 \n",
      " _c12  | 2.5996237880158318E10 \n",
      " _c120 | 2.7221752436339066E10 \n",
      " _c121 | 2.7399963289500042E10 \n",
      " _c122 | 2.795252525090532E10  \n",
      " _c123 | 2.7386895391522438E10 \n",
      " _c124 | 2.716684720949635E10  \n",
      " _c125 | 2.7487851345726326E10 \n",
      " _c126 | 2.795503213673851E10  \n",
      " _c127 | 2.612253497027229E10  \n",
      " _c128 | 2.6743898470265766E10 \n",
      " _c129 | 2.7620832145181435E10 \n",
      " _c13  | 2.8788513216496006E10 \n",
      " _c130 | 2.738261122782844E10  \n",
      " _c131 | 2.7636598686929413E10 \n",
      " _c132 | 2.8087188859185165E10 \n",
      " _c133 | 2.748788623514338E10  \n",
      " _c134 | 2.836589787136102E10  \n",
      " _c135 | 2.6822709934376305E10 \n",
      " _c136 | 2.659397692775501E10  \n",
      " _c137 | 2.7592413096030186E10 \n",
      " _c138 | 2.728779520384194E10  \n",
      " _c139 | 2.824979647971139E10  \n",
      " _c14  | 2.836320210406022E10  \n",
      " _c140 | 2.8204305937186935E10 \n",
      " _c141 | 2.7789519377558456E10 \n",
      " _c142 | 2.7466745924397522E10 \n",
      " _c143 | 2.8144719825251804E10 \n",
      " _c144 | 2.7380150233120667E10 \n",
      " _c145 | 2.7334962532358944E10 \n",
      " _c146 | 2.8274172882923164E10 \n",
      " _c147 | 2.78744194270961E10   \n",
      " _c148 | 2.7186451752507603E10 \n",
      " _c149 | 2.6872202131193253E10 \n",
      " _c15  | 2.731367182029124E10  \n",
      " _c150 | 2.7809457521545605E10 \n",
      " _c151 | 2.7553926721344456E10 \n",
      " _c152 | 2.8076981972706856E10 \n",
      " _c153 | 2.698872241309419E10  \n",
      " _c154 | 2.7665698833611748E10 \n",
      " _c155 | 2.797232194330117E10  \n",
      " _c156 | 2.7295194989425198E10 \n",
      " _c157 | 2.810298176793027E10  \n",
      " _c158 | 2.7443082417328476E10 \n",
      " _c159 | 2.8195672374217587E10 \n",
      " _c16  | 2.8011655947033077E10 \n",
      " _c160 | 2.783104076977803E10  \n",
      " _c161 | 2.7559931330674973E10 \n",
      " _c162 | 2.782840860088307E10  \n",
      " _c163 | 2.742530775301857E10  \n",
      " _c164 | 2.7878655878415554E10 \n",
      " _c165 | 2.7666269056576298E10 \n",
      " _c166 | 2.8186140115350475E10 \n",
      " _c167 | 2.803019460641613E10  \n",
      " _c168 | 2.705469744360529E10  \n",
      " _c169 | 2.8063740752030457E10 \n",
      " _c17  | 2.675588870231031E10  \n",
      " _c170 | 2.7899423535373688E10 \n",
      " _c171 | 2.68307641389337E10   \n",
      " _c172 | 2.750852024297373E10  \n",
      " _c173 | 2.7259427696186607E10 \n",
      " _c174 | 2.7768636991805992E10 \n",
      " _c175 | 2.7397693443085217E10 \n",
      " _c176 | 2.8153137723110683E10 \n",
      " _c177 | 2.7827188181133713E10 \n",
      " _c178 | 2.8252552260327972E10 \n",
      " _c179 | 2.7784407196811565E10 \n",
      " _c18  | 2.7158335018496174E10 \n",
      " _c180 | 2.694415316996144E10  \n",
      " _c181 | 2.7410062797330082E10 \n",
      " _c182 | 2.8432583440597683E10 \n",
      " _c183 | 2.7125427224010048E10 \n",
      " _c184 | 2.726727103454124E10  \n",
      " _c185 | 2.7181708905199795E10 \n",
      " _c186 | 2.711372552569559E10  \n",
      " _c187 | 2.8129737262464836E10 \n",
      " _c188 | 2.7579952314967686E10 \n",
      " _c189 | 2.798185579155252E10  \n",
      " _c19  | 2.7586029595720623E10 \n",
      " _c190 | 2.714053190341362E10  \n",
      " _c191 | 2.8357231041031322E10 \n",
      " _c192 | 2.759265218521257E10  \n",
      " _c193 | 2.782204366560991E10  \n",
      " _c194 | 2.8106522420212612E10 \n",
      " _c195 | 2.7017933072768703E10 \n",
      " _c196 | 2.7048651294366047E10 \n",
      " _c197 | 2.8033273441522606E10 \n",
      " _c198 | 2.671359657885925E10  \n",
      " _c199 | 2.806002491568121E10  \n",
      " _c2   | 2.744546810804477E10  \n",
      " _c20  | 2.742052896925148E10  \n",
      " _c21  | 2.701886586086054E10  \n",
      " _c22  | 2.7476557345642258E10 \n",
      " _c23  | 2.831535929278205E10  \n",
      " _c24  | 2.785765577984647E10  \n",
      " _c25  | 2.7303680045373215E10 \n",
      " _c26  | 2.7512846543949734E10 \n",
      " _c27  | 2.7224906648028954E10 \n",
      " _c28  | 2.7320362422213207E10 \n",
      " _c29  | 2.8210531604041573E10 \n",
      " _c3   | 2.7767019703035236E10 \n",
      " _c30  | 2.8669264026602924E10 \n",
      " _c31  | 2.8261452152411324E10 \n",
      " _c32  | 2.720784690861046E10  \n",
      " _c33  | 2.764793873146551E10  \n",
      " _c34  | 2.8505471221981922E10 \n",
      " _c35  | 2.818544617232154E10  \n",
      " _c36  | 2.7544992404934578E10 \n",
      " _c37  | 2.8372192463547062E10 \n",
      " _c38  | 2.8134791518457916E10 \n",
      " _c39  | 2.7075179108834785E10 \n",
      " _c4   | 2.7799103693575325E10 \n",
      " _c40  | 2.832373980989548E10  \n",
      " _c41  | 2.7550642962583847E10 \n",
      " _c42  | 2.8537947752330643E10 \n",
      " _c43  | 2.7674494340769295E10 \n",
      " _c44  | 2.6562917525953514E10 \n",
      " _c45  | 2.767907309105264E10  \n",
      " _c46  | 2.7905929909249847E10 \n",
      " _c47  | 2.6662251713531384E10 \n",
      " _c48  | 2.686863527573669E10  \n",
      " _c49  | 2.747663671164253E10  \n",
      " _c5   | 2.744222009939446E10  \n",
      " _c50  | 2.7237942810284576E10 \n",
      " _c51  | 2.7654238307380745E10 \n",
      " _c52  | 2.706798911366687E10  \n",
      " _c53  | 2.764429222903602E10  \n",
      " _c54  | 2.711776324305718E10  \n",
      " _c55  | 2.867378339230815E10  \n",
      " _c56  | 2.786990840264415E10  \n",
      " _c57  | 2.8148499700625736E10 \n",
      " _c58  | 2.7504025064276783E10 \n",
      " _c59  | 2.7822459729882698E10 \n",
      " _c6   | 2.844450204335022E10  \n",
      " _c60  | 2.803810882123267E10  \n",
      " _c61  | 2.7834992565013206E10 \n",
      " _c62  | 2.818218674193678E10  \n",
      " _c63  | 2.6651112307141647E10 \n",
      " _c64  | 2.7519273990571404E10 \n",
      " _c65  | 2.69506071887745E10   \n",
      " _c66  | 2.753500426545204E10  \n",
      " _c67  | 2.6645320863244453E10 \n",
      " _c68  | 2.7451882536872986E10 \n",
      " _c69  | 2.780148353303058E10  \n",
      " _c7   | 2.7470825217162086E10 \n",
      " _c70  | 2.7101125593552456E10 \n",
      " _c71  | 2.7517398997814865E10 \n",
      " _c72  | 2.713708926329972E10  \n",
      " _c73  | 2.76603082410903E10   \n",
      " _c74  | 2.8288313201623436E10 \n",
      " _c75  | 2.7052719389895607E10 \n",
      " _c76  | 2.781432953261821E10  \n",
      " _c77  | 2.7780603491486763E10 \n",
      " _c78  | 2.7061114993463768E10 \n",
      " _c79  | 2.7117230140769264E10 \n",
      " _c8   | 2.769477695363318E10  \n",
      " _c80  | 2.7125827222716343E10 \n",
      " _c81  | 2.8369103969195343E10 \n",
      " _c82  | 2.623064222655077E10  \n",
      " _c83  | 2.7237250497724117E10 \n",
      " _c84  | 2.7168509116994625E10 \n",
      " _c85  | 2.7927629770988228E10 \n",
      " _c86  | 2.7402765637576046E10 \n",
      " _c87  | 2.738162768800499E10  \n",
      " _c88  | 2.6874146746412132E10 \n",
      " _c89  | 2.7944371224164772E10 \n",
      " _c9   | 2.6951124608127148E10 \n",
      " _c90  | 2.7760873066478653E10 \n",
      " _c91  | 2.792010317617756E10  \n",
      " _c92  | 2.7476750723276066E10 \n",
      " _c93  | 2.7087277673757065E10 \n",
      " _c94  | 2.754157030861795E10  \n",
      " _c95  | 2.7266954298123535E10 \n",
      " _c96  | 2.7763407892815918E10 \n",
      " _c97  | 2.795640071682089E10  \n",
      " _c98  | 2.749840330955185E10  \n",
      " _c99  | 2.8130615033618767E10 \n",
      "\n"
     ]
    },
    {
     "name": "stderr",
     "output_type": "stream",
     "text": [
      "                                                                                \r"
     ]
    }
   ],
   "source": [
    "# %%\n",
    "# Print the first row of the final matrix product (vertically)\n",
    "df_A_x_A_T_x_A.show(1, False, True)"
   ]
  }
 ],
 "metadata": {
  "kernelspec": {
   "display_name": "Python 3",
   "language": "python",
   "name": "python3"
  },
  "language_info": {
   "codemirror_mode": {
    "name": "ipython",
    "version": 3
   },
   "file_extension": ".py",
   "mimetype": "text/x-python",
   "name": "python",
   "nbconvert_exporter": "python",
   "pygments_lexer": "ipython3",
   "version": "3.10.12"
  }
 },
 "nbformat": 4,
 "nbformat_minor": 2
}
